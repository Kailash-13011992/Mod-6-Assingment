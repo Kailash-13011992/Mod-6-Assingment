{
  "nbformat": 4,
  "nbformat_minor": 0,
  "metadata": {
    "colab": {
      "provenance": [],
      "include_colab_link": true
    },
    "kernelspec": {
      "name": "python3",
      "display_name": "Python 3"
    },
    "language_info": {
      "name": "python"
    }
  },
  "cells": [
    {
      "cell_type": "markdown",
      "metadata": {
        "id": "view-in-github",
        "colab_type": "text"
      },
      "source": [
        "<a href=\"https://colab.research.google.com/github/Kailash-13011992/Mod-6-Assingment/blob/main/Kailash_Sahu.ipynb\" target=\"_parent\"><img src=\"https://colab.research.google.com/assets/colab-badge.svg\" alt=\"Open In Colab\"/></a>"
      ]
    },
    {
      "cell_type": "markdown",
      "source": [],
      "metadata": {
        "id": "BJhHZEv3Rq12"
      }
    },
    {
      "cell_type": "markdown",
      "source": [
        "Kailash Sahu\n",
        "Mod 6 - Assingment\n"
      ],
      "metadata": {
        "id": "gfScmNfGtNfa"
      }
    },
    {
      "cell_type": "markdown",
      "source": [
        "Handle Missing Values"
      ],
      "metadata": {
        "id": "Bh23RnmPUnRj"
      }
    },
    {
      "cell_type": "code",
      "source": [
        "print(data.isnull().sum())  # Count missing values per column\n"
      ],
      "metadata": {
        "colab": {
          "base_uri": "https://localhost:8080/"
        },
        "id": "vRjhQPVKUwkZ",
        "outputId": "6ffe5c46-c2c8-40be-ff0b-df9b1f72604a"
      },
      "execution_count": null,
      "outputs": [
        {
          "output_type": "stream",
          "name": "stdout",
          "text": [
            "VIN                                0\n",
            "TRANSACTION_ID                     0\n",
            "CORRECTION_VERBATIM                0\n",
            "CUSTOMER_VERBATIM                  0\n",
            "REPAIR_DATE                        0\n",
            "CAUSAL_PART_NM                     5\n",
            "GLOBAL_LABOR_CODE_DESCRIPTION      0\n",
            "PLATFORM                           0\n",
            "BODY_STYLE                         0\n",
            "VPPC                               0\n",
            "PLANT                              1\n",
            "BUILD_COUNTRY                      0\n",
            "LAST_KNOWN_DLR_NAME                0\n",
            "LAST_KNOWN_DLR_CITY                0\n",
            "REPAIRING_DEALER_CODE              0\n",
            "DEALER_NAME                        0\n",
            "REPAIR_DLR_CITY                    0\n",
            "STATE                              2\n",
            "DEALER_REGION                      0\n",
            "REPAIR_DLR_POSTAL_CD               2\n",
            "REPAIR_AGE                         0\n",
            "KM                                 0\n",
            "COMPLAINT_CD_CSI                   0\n",
            "COMPLAINT_CD                       0\n",
            "VEH_TEST_GRP                       2\n",
            "COUNTRY_SALE_ISO                   0\n",
            "ORD_SELLING_SRC_CD                 0\n",
            "OPTN_FAMLY_CERTIFICATION          10\n",
            "OPTF_FAMLY_EMISSIOF_SYSTEM         5\n",
            "GLOBAL_LABOR_CODE                  0\n",
            "TRANSACTION_CATEGORY               0\n",
            "CAMPAIGN_NBR                     100\n",
            "REPORTING_COST                     0\n",
            "TOTALCOST                          6\n",
            "LBRCOST                            0\n",
            "ENGINE                             0\n",
            "ENGINE_DESC                        0\n",
            "TRANSMISSION                       0\n",
            "TRANSMISSION_DESC                  0\n",
            "ENGINE_SOURCE_PLANT               12\n",
            "ENGINE_TRACE_NBR                  12\n",
            "TRANSMISSION_SOURCE_PLANT         12\n",
            "TRANSMISSION_TRACE_NBR            12\n",
            "SRC_TXN_ID                         0\n",
            "SRC_VER_NBR                        0\n",
            "TRANSACTION_CNTR                   0\n",
            "MEDIA_FLAG                         0\n",
            "VIN_MODL_DESGTR                    0\n",
            "LINE_SERIES                        1\n",
            "LAST_KNOWN_DELVRY_TYPE_CD          2\n",
            "NON_CAUSAL_PART_QTY                0\n",
            "SALES_REGION_CODE                  0\n",
            "dtype: int64\n"
          ]
        }
      ]
    },
    {
      "cell_type": "markdown",
      "source": [
        "Fill Missing Values"
      ],
      "metadata": {
        "id": "P6lCosCRVIuY"
      }
    },
    {
      "cell_type": "code",
      "source": [
        "data['CAMPAIGN_NBR'].fillna(data['LAST_KNOWN_DELVRY_TYPE_CD'].mean(), inplace=True)\n"
      ],
      "metadata": {
        "colab": {
          "base_uri": "https://localhost:8080/"
        },
        "id": "OdTrF-H8U-xI",
        "outputId": "e7470dfb-f2a3-44f8-f97d-064d61db721e"
      },
      "execution_count": null,
      "outputs": [
        {
          "output_type": "stream",
          "name": "stderr",
          "text": [
            "<ipython-input-9-63ad96e22106>:1: FutureWarning: A value is trying to be set on a copy of a DataFrame or Series through chained assignment using an inplace method.\n",
            "The behavior will change in pandas 3.0. This inplace method will never work because the intermediate object on which we are setting values always behaves as a copy.\n",
            "\n",
            "For example, when doing 'df[col].method(value, inplace=True)', try using 'df.method({col: value}, inplace=True)' or df[col] = df[col].method(value) instead, to perform the operation inplace on the original object.\n",
            "\n",
            "\n",
            "  data['CAMPAIGN_NBR'].fillna(data['LAST_KNOWN_DELVRY_TYPE_CD'].mean(), inplace=True)\n"
          ]
        }
      ]
    },
    {
      "cell_type": "code",
      "source": [
        "# drop rows with missing values\n",
        "\n",
        "data.dropna(inplace=True)\n"
      ],
      "metadata": {
        "id": "0AfZ2Xr3V4Ri"
      },
      "execution_count": null,
      "outputs": []
    },
    {
      "cell_type": "code",
      "source": [
        "# drp columns with to many missing values\n",
        "data.dropna(axis=1, thresh=int(0.8 * len(data)), inplace=True)  # Keeps columns with <20% missing\n"
      ],
      "metadata": {
        "id": "bjJPtS0MaYwU"
      },
      "execution_count": null,
      "outputs": []
    },
    {
      "cell_type": "markdown",
      "source": [
        "Handle Duplicates"
      ],
      "metadata": {
        "id": "eN2HQYyPavCp"
      }
    },
    {
      "cell_type": "code",
      "source": [
        "# Check for duplicates\n",
        "print(data.duplicated().sum())\n",
        "\n",
        "# Remove duplicates\n",
        "data.drop_duplicates(inplace=True)\n"
      ],
      "metadata": {
        "colab": {
          "base_uri": "https://localhost:8080/"
        },
        "id": "p13zoNX-anc2",
        "outputId": "6ab4232f-1a54-4857-b97b-af4a32f2ab31"
      },
      "execution_count": null,
      "outputs": [
        {
          "output_type": "stream",
          "name": "stdout",
          "text": [
            "0\n"
          ]
        }
      ]
    },
    {
      "cell_type": "markdown",
      "source": [
        "Address Inconsistancies in categorical data"
      ],
      "metadata": {
        "id": "8aQP_x1wbE42"
      }
    },
    {
      "cell_type": "code",
      "source": [
        "data['CORRECTION _VERBATIM'] = data['CORRECTION_VERBATIM'].str.upper()  # Convert to lowercase\n"
      ],
      "metadata": {
        "id": "wPM8VqOcbJve"
      },
      "execution_count": null,
      "outputs": []
    },
    {
      "cell_type": "code",
      "source": [
        "# strip whitespaces\n",
        "data['DEALER_NAME'] = data['DEALER_NAME'].str.strip()\n"
      ],
      "metadata": {
        "id": "mtRmLfCFb3sz"
      },
      "execution_count": null,
      "outputs": []
    },
    {
      "cell_type": "markdown",
      "source": [
        "Convert Data types"
      ],
      "metadata": {
        "id": "ltr2l2oOcjcu"
      }
    },
    {
      "cell_type": "code",
      "source": [
        "# Convert columns to numeric\n",
        "data['KM']= pd.to_numeric(data['KM'], errors='coerce')\n",
        "data['REPORTING_COST']= pd.to_numeric(data['REPORTING_COST'], errors='coerce')\n",
        "data['TOTALCOST']= pd.to_numeric(data['TOTALCOST'], errors='coerce')\n",
        "\n",
        "# Convert dates\n",
        "data['REPAIR_DATE'] = pd.to_datetime(data['REPAIR_DATE'], errors='coerce')\n"
      ],
      "metadata": {
        "id": "oVqMG0vLcm9_"
      },
      "execution_count": null,
      "outputs": []
    },
    {
      "cell_type": "markdown",
      "source": [
        "Save cleaned data"
      ],
      "metadata": {
        "id": "mSVYbZ2id6_X"
      }
    },
    {
      "cell_type": "code",
      "source": [
        "# Save to a new CSV or Excel file\n",
        "data.to_csv(\"cleaned_dataset.csv\", index=False)\n"
      ],
      "metadata": {
        "id": "2qir6P9Ld5Yj"
      },
      "execution_count": null,
      "outputs": []
    },
    {
      "cell_type": "markdown",
      "source": [
        "Summary of cleaned data"
      ],
      "metadata": {
        "id": "ZNPuXbB2eBtK"
      }
    },
    {
      "cell_type": "code",
      "source": [
        "print(data.info())  # Overview of data types and missing values\n",
        "print(data.describe())  # Summary statistics for numerical columns\n"
      ],
      "metadata": {
        "colab": {
          "base_uri": "https://localhost:8080/"
        },
        "id": "TqIfoU6GeKvC",
        "outputId": "a9dd48e0-d83a-4c88-ae24-faa42e6fce4b"
      },
      "execution_count": null,
      "outputs": [
        {
          "output_type": "stream",
          "name": "stdout",
          "text": [
            "<class 'pandas.core.frame.DataFrame'>\n",
            "Index: 62 entries, 0 to 99\n",
            "Data columns (total 53 columns):\n",
            " #   Column                         Non-Null Count  Dtype         \n",
            "---  ------                         --------------  -----         \n",
            " 0   VIN                            62 non-null     object        \n",
            " 1   TRANSACTION_ID                 62 non-null     int64         \n",
            " 2   CORRECTION_VERBATIM            62 non-null     object        \n",
            " 3   CUSTOMER_VERBATIM              62 non-null     object        \n",
            " 4   REPAIR_DATE                    62 non-null     datetime64[ns]\n",
            " 5   CAUSAL_PART_NM                 62 non-null     object        \n",
            " 6   GLOBAL_LABOR_CODE_DESCRIPTION  62 non-null     object        \n",
            " 7   PLATFORM                       62 non-null     object        \n",
            " 8   BODY_STYLE                     62 non-null     object        \n",
            " 9   VPPC                           62 non-null     object        \n",
            " 10  PLANT                          62 non-null     object        \n",
            " 11  BUILD_COUNTRY                  62 non-null     object        \n",
            " 12  LAST_KNOWN_DLR_NAME            62 non-null     object        \n",
            " 13  LAST_KNOWN_DLR_CITY            62 non-null     object        \n",
            " 14  REPAIRING_DEALER_CODE          62 non-null     object        \n",
            " 15  DEALER_NAME                    62 non-null     object        \n",
            " 16  REPAIR_DLR_CITY                62 non-null     object        \n",
            " 17  STATE                          62 non-null     object        \n",
            " 18  DEALER_REGION                  62 non-null     int64         \n",
            " 19  REPAIR_DLR_POSTAL_CD           62 non-null     object        \n",
            " 20  REPAIR_AGE                     62 non-null     int64         \n",
            " 21  KM                             62 non-null     int64         \n",
            " 22  COMPLAINT_CD_CSI               62 non-null     int64         \n",
            " 23  COMPLAINT_CD                   62 non-null     object        \n",
            " 24  VEH_TEST_GRP                   62 non-null     object        \n",
            " 25  COUNTRY_SALE_ISO               62 non-null     object        \n",
            " 26  ORD_SELLING_SRC_CD             62 non-null     int64         \n",
            " 27  OPTN_FAMLY_CERTIFICATION       62 non-null     object        \n",
            " 28  OPTF_FAMLY_EMISSIOF_SYSTEM     62 non-null     object        \n",
            " 29  GLOBAL_LABOR_CODE              62 non-null     int64         \n",
            " 30  TRANSACTION_CATEGORY           62 non-null     object        \n",
            " 31  CAMPAIGN_NBR                   62 non-null     float64       \n",
            " 32  REPORTING_COST                 62 non-null     float64       \n",
            " 33  TOTALCOST                      62 non-null     float64       \n",
            " 34  LBRCOST                        62 non-null     float64       \n",
            " 35  ENGINE                         62 non-null     object        \n",
            " 36  ENGINE_DESC                    62 non-null     object        \n",
            " 37  TRANSMISSION                   62 non-null     object        \n",
            " 38  TRANSMISSION_DESC              62 non-null     object        \n",
            " 39  ENGINE_SOURCE_PLANT            62 non-null     object        \n",
            " 40  ENGINE_TRACE_NBR               62 non-null     object        \n",
            " 41  TRANSMISSION_SOURCE_PLANT      62 non-null     float64       \n",
            " 42  TRANSMISSION_TRACE_NBR         62 non-null     object        \n",
            " 43  SRC_TXN_ID                     62 non-null     int64         \n",
            " 44  SRC_VER_NBR                    62 non-null     int64         \n",
            " 45  TRANSACTION_CNTR               62 non-null     int64         \n",
            " 46  MEDIA_FLAG                     62 non-null     object        \n",
            " 47  VIN_MODL_DESGTR                62 non-null     object        \n",
            " 48  LINE_SERIES                    62 non-null     object        \n",
            " 49  LAST_KNOWN_DELVRY_TYPE_CD      62 non-null     float64       \n",
            " 50  NON_CAUSAL_PART_QTY            62 non-null     int64         \n",
            " 51  SALES_REGION_CODE              62 non-null     int64         \n",
            " 52  CORRECTION _VERBATIM           62 non-null     object        \n",
            "dtypes: datetime64[ns](1), float64(6), int64(12), object(34)\n",
            "memory usage: 26.2+ KB\n",
            "None\n",
            "       TRANSACTION_ID                    REPAIR_DATE  DEALER_REGION  \\\n",
            "count       62.000000                             62           62.0   \n",
            "mean     13037.080645  2024-01-22 05:48:23.225806336            1.0   \n",
            "min      13021.000000            2024-01-02 00:00:00            1.0   \n",
            "25%      13029.000000            2024-01-12 00:00:00            1.0   \n",
            "50%      13036.500000            2024-01-24 00:00:00            1.0   \n",
            "75%      13040.000000            2024-01-31 00:00:00            1.0   \n",
            "max      13074.000000            2024-02-07 00:00:00            1.0   \n",
            "std         11.894755                            NaN            0.0   \n",
            "\n",
            "       REPAIR_AGE            KM  COMPLAINT_CD_CSI  ORD_SELLING_SRC_CD  \\\n",
            "count   62.000000     62.000000              62.0           62.000000   \n",
            "mean    15.870968  25358.709677               0.0           26.419355   \n",
            "min      0.000000      3.000000               0.0           11.000000   \n",
            "25%      3.250000   6897.000000               0.0           13.000000   \n",
            "50%     12.500000  18758.500000               0.0           13.000000   \n",
            "75%     23.000000  38140.750000               0.0           48.000000   \n",
            "max     50.000000  80805.000000               0.0           48.000000   \n",
            "std     14.027472  21567.035228               0.0           17.300193   \n",
            "\n",
            "       GLOBAL_LABOR_CODE  CAMPAIGN_NBR  REPORTING_COST    TOTALCOST  \\\n",
            "count          62.000000  6.200000e+01       62.000000    62.000000   \n",
            "mean          149.677419  1.413265e+01      508.021129   537.621129   \n",
            "min            20.000000  1.413265e+01       63.100000    63.100000   \n",
            "25%           130.000000  1.413265e+01      320.105000   366.527500   \n",
            "50%           130.000000  1.413265e+01      444.945000   457.480000   \n",
            "75%           130.000000  1.413265e+01      559.687500   618.007500   \n",
            "max          2400.000000  1.413265e+01     1488.940000  1488.940000   \n",
            "std           292.608213  5.372574e-15      306.033154   321.915816   \n",
            "\n",
            "          LBRCOST  TRANSMISSION_SOURCE_PLANT    SRC_TXN_ID  SRC_VER_NBR  \\\n",
            "count   62.000000               6.200000e+01  6.200000e+01    62.000000   \n",
            "mean    95.781129               1.295375e+08  2.816022e+09     6.258065   \n",
            "min     50.270000               2.878270e+05  2.808842e+09     2.000000   \n",
            "25%     62.145000               2.878270e+05  2.809494e+09     4.000000   \n",
            "50%     74.595000               8.042172e+06  2.820193e+09     4.000000   \n",
            "75%     91.760000               1.774929e+07  2.820788e+09     6.000000   \n",
            "max    500.070000               8.282984e+08  2.823000e+09    26.000000   \n",
            "std     68.548272               2.900438e+08  5.673099e+06     4.601979   \n",
            "\n",
            "       TRANSACTION_CNTR  LAST_KNOWN_DELVRY_TYPE_CD  NON_CAUSAL_PART_QTY  \\\n",
            "count              62.0                   62.00000            62.000000   \n",
            "mean                1.0                   14.50000             0.080645   \n",
            "min                 1.0                   10.00000             0.000000   \n",
            "25%                 1.0                   10.00000             0.000000   \n",
            "50%                 1.0                   10.00000             0.000000   \n",
            "75%                 1.0                   16.00000             0.000000   \n",
            "max                 1.0                   37.00000             1.000000   \n",
            "std                 0.0                    7.41454             0.274512   \n",
            "\n",
            "       SALES_REGION_CODE  \n",
            "count               62.0  \n",
            "mean                 1.0  \n",
            "min                  1.0  \n",
            "25%                  1.0  \n",
            "50%                  1.0  \n",
            "75%                  1.0  \n",
            "max                  1.0  \n",
            "std                  0.0  \n"
          ]
        }
      ]
    }
  ]
}